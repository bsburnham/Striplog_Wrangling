{
 "cells": [
  {
   "cell_type": "markdown",
   "metadata": {},
   "source": [
    "## Making a striplog (outcrop log thing) for use in Gempy3D"
   ]
  },
  {
   "cell_type": "markdown",
   "metadata": {},
   "source": [
    "#### First we need to import all of the appropriate libraries"
   ]
  },
  {
   "cell_type": "code",
   "execution_count": 1,
   "metadata": {},
   "outputs": [],
   "source": [
    "from striplog import Striplog, Component, Interval\n",
    "import welly\n",
    "import lasio\n",
    "from glob import glob\n",
    "import numpy as np"
   ]
  },
  {
   "cell_type": "markdown",
   "metadata": {},
   "source": [
    "Have to use `lasio` to read it because `welly` will force regular sampling."
   ]
  },
  {
   "cell_type": "markdown",
   "metadata": {},
   "source": [
    "Let's do this in one go and import every *.las file from the directory and append them to a list las_files"
   ]
  },
  {
   "cell_type": "code",
   "execution_count": 2,
   "metadata": {},
   "outputs": [],
   "source": [
    "file_list = sorted(glob('/home/brian/Documents/Agile_Geocomputing/Petrel_Sed_Logs/*.las'))\n",
    "las_files = []\n",
    "for l in file_list:\n",
    "    las_files.append(lasio.read(l))"
   ]
  },
  {
   "cell_type": "markdown",
   "metadata": {},
   "source": [
    "This is where one would import any deivation surveys into the striplog, \n",
    "like from Welly or just GPS tracts of your logs (at least top and base)."
   ]
  },
  {
   "cell_type": "code",
   "execution_count": 3,
   "metadata": {},
   "outputs": [
    {
     "data": {
      "text/plain": [
       "[<lasio.las.LASFile at 0x7f40e2384e80>,\n",
       " <lasio.las.LASFile at 0x7f410c22ba58>,\n",
       " <lasio.las.LASFile at 0x7f40e1d28a20>,\n",
       " <lasio.las.LASFile at 0x7f40e0855cf8>]"
      ]
     },
     "execution_count": 3,
     "metadata": {},
     "output_type": "execute_result"
    }
   ],
   "source": [
    "las_files"
   ]
  },
  {
   "cell_type": "markdown",
   "metadata": {},
   "source": [
    "---------------------------------------------------------------------\n",
    "Below will be where we import GPS data for sedimentary log positions"
   ]
  },
  {
   "cell_type": "code",
   "execution_count": 4,
   "metadata": {},
   "outputs": [],
   "source": [
    "#Import all of the deviation survey .csv file from the directory\n",
    "#these surveys can simply be gps tracts\n",
    "dev_file_list = sorted(glob('/home/brian/Documents/Agile_Geocomputing/Petrel_Sed_Logs/*.csv'))\n",
    "dev_list = []\n",
    "for i in dev_file_list:\n",
    "    dev =  np.loadtxt(i, delimiter=',', skiprows=1)\n",
    "    dev_list.append(dev)"
   ]
  },
  {
   "cell_type": "code",
   "execution_count": 5,
   "metadata": {},
   "outputs": [
    {
     "data": {
      "text/plain": [
       "(['/home/brian/Documents/Agile_Geocomputing/Petrel_Sed_Logs/WC_North_Leg.las',\n",
       "  '/home/brian/Documents/Agile_Geocomputing/Petrel_Sed_Logs/WC_North_Middle.las',\n",
       "  '/home/brian/Documents/Agile_Geocomputing/Petrel_Sed_Logs/WC_South.las',\n",
       "  '/home/brian/Documents/Agile_Geocomputing/Petrel_Sed_Logs/WC_South_Leg.las'],\n",
       " ['/home/brian/Documents/Agile_Geocomputing/Petrel_Sed_Logs/WC_North_Leg.csv',\n",
       "  '/home/brian/Documents/Agile_Geocomputing/Petrel_Sed_Logs/WC_North_Middle.csv',\n",
       "  '/home/brian/Documents/Agile_Geocomputing/Petrel_Sed_Logs/WC_South.csv',\n",
       "  '/home/brian/Documents/Agile_Geocomputing/Petrel_Sed_Logs/WC_South_Leg.csv',\n",
       "  '/home/brian/Documents/Agile_Geocomputing/Petrel_Sed_Logs/wc_south_leg_survey.csv'])"
      ]
     },
     "execution_count": 5,
     "metadata": {},
     "output_type": "execute_result"
    }
   ],
   "source": [
    "# # check the list variables are imported and sorted properly\n",
    "file_list, dev_file_list"
   ]
  },
  {
   "cell_type": "markdown",
   "metadata": {},
   "source": [
    "---------------------------------------------------------------------"
   ]
  },
  {
   "cell_type": "markdown",
   "metadata": {},
   "source": [
    "This creates a `Welly` well object and adds the deviation survey to it."
   ]
  },
  {
   "cell_type": "code",
   "execution_count": 6,
   "metadata": {},
   "outputs": [],
   "source": [
    "for las, dev in zip(file_list, dev_list):\n",
    "    p = welly.Well.from_las(las)\n",
    "    p.location.add_deviation(dev[:, :3])"
   ]
  },
  {
   "cell_type": "markdown",
   "metadata": {},
   "source": [
    "Check the location survey was imported and correctly attributed to `Welly` object `p`"
   ]
  },
  {
   "cell_type": "code",
   "execution_count": 7,
   "metadata": {},
   "outputs": [
    {
     "data": {
      "text/plain": [
       "Location({'td': None, 'crs': CRS({}), 'deviation': array([[-90.288,   0.   ,   0.   ],\n",
       "       [ -9.881,  40.   ,   0.   ]]), 'position': array([[ 0.        ,  0.        ,  0.        ],\n",
       "       [26.94572448,  0.        , 74.03276957]])})"
      ]
     },
     "execution_count": 7,
     "metadata": {},
     "output_type": "execute_result"
    }
   ],
   "source": [
    "p.location"
   ]
  },
  {
   "cell_type": "code",
   "execution_count": 8,
   "metadata": {},
   "outputs": [],
   "source": [
    "p.location.add_deviation(dev[:, :3], td=-47.26)"
   ]
  },
  {
   "cell_type": "code",
   "execution_count": 9,
   "metadata": {},
   "outputs": [
    {
     "data": {
      "text/plain": [
       "Location({'td': None, 'crs': CRS({}), 'deviation': array([[-90.288,   0.   ,   0.   ],\n",
       "       [ -9.881,  40.   ,   0.   ],\n",
       "       [-47.26 ,  40.   ,   0.   ]]), 'position': array([[ 0.        ,  0.        ,  0.        ],\n",
       "       [26.94572448,  0.        , 74.03276957],\n",
       "       [ 2.91896642,  0.        , 45.39879433]])})"
      ]
     },
     "execution_count": 9,
     "metadata": {},
     "output_type": "execute_result"
    }
   ],
   "source": [
    "p.location"
   ]
  },
  {
   "cell_type": "markdown",
   "metadata": {},
   "source": [
    "Check what the `p` is to make sure we still have the necessary `striplog` info"
   ]
  },
  {
   "cell_type": "code",
   "execution_count": 10,
   "metadata": {},
   "outputs": [
    {
     "data": {
      "text/plain": [
       "{'PIRACESFACIES': Curve([0.        , 0.54558611, 1.16710875, 1.79936306, 1.36468886,\n",
       "        2.45586107, 3.3761194 , 4.12636816, 4.87661692, 5.62686567,\n",
       "        6.37711443, 7.12736318, 7.87761194, 2.98068182, 1.40207006,\n",
       "        2.00183711, 2.46356399, 2.92529088, 3.83819629, 0.12445731,\n",
       "        0.85190545, 1.57935359, 2.30680174, 3.03424988, 3.76169802,\n",
       "        3.15039799, 1.88688731, 0.62337662, 0.50696749, 1.50763106,\n",
       "        1.78226265, 1.35361001, 0.78980892, 0.68435013, 2.41082803,\n",
       "        3.25464191, 3.75464191, 2.47164179, 0.17639257, 0.92438886,\n",
       "        0.49573621, 0.06708357, 0.98406375, 1.24006359, 2.42537313,\n",
       "        1.3       , 0.17462687, 2.73001038, 1.9470405 , 1.16407061,\n",
       "        0.38110073, 0.92362768, 2.72315036, 3.20318471, 3.4433121 ,\n",
       "        3.68343949, 3.92356688, 2.46567164, 0.86047745, 0.46047745,\n",
       "        0.06047745, 0.98089172, 0.36604775, 0.31697613, 0.16396052,\n",
       "        0.40401146, 0.6440624 , 0.88411334, 1.1390044 , 1.40774623,\n",
       "        1.67648806, 1.94522989, 2.21397172, 2.48271356, 2.75145539,\n",
       "        3.02019722, 3.28893905, 3.55768088, 3.82642272, 3.29177719,\n",
       "        1.29177719, 1.85970149, 1.10945274, 2.02547771, 3.04709784,\n",
       "        3.29718076, 3.54726368, 3.7973466 , 4.07586207, 4.47586207,\n",
       "        4.87586207, 0.85987261, 0.85676393, 0.22929936, 0.64190981,\n",
       "        0.30681818, 1.45859873, 2.7519902 , 2.05939988, 1.36680955,\n",
       "        0.67421923, 0.0795756 , 2.9734748 , 1.9734748 , 1.07968127,\n",
       "        3.96661367,        nan])}"
      ]
     },
     "execution_count": 10,
     "metadata": {},
     "output_type": "execute_result"
    }
   ],
   "source": [
    "p.data"
   ]
  },
  {
   "cell_type": "code",
   "execution_count": 11,
   "metadata": {},
   "outputs": [
    {
     "data": {
      "text/plain": [
       "'/home/brian/Documents/Agile_Geocomputing/Petrel_Sed_Logs/WC_South_Leg.las'"
      ]
     },
     "execution_count": 11,
     "metadata": {},
     "output_type": "execute_result"
    }
   ],
   "source": [
    "l"
   ]
  },
  {
   "cell_type": "code",
   "execution_count": 19,
   "metadata": {},
   "outputs": [],
   "source": [
    "lithologies = ['claystone', 'mudstone', 'siltstone', 'sand', 'sand', 'sand', 'sand', 'sand', 'gravel', 'conglomerate']\n",
    "l = las_files[0]\n",
    "\n",
    "intervals = []\n",
    "for (top, gs), (base, _) in zip(l.data[:-1], l.data[1:]):\n",
    "    properties = {\n",
    "        'grainsize': gs,\n",
    "        'lithology': lithologies[int(gs)] if not np.isnan(gs) else 'none',\n",
    "    }\n",
    "    comp = Component(properties=properties)\n",
    "    interval = Interval(top=-top, base=-base, components=[comp])\n",
    "    intervals.append(interval)\n",
    "\n",
    "s = Striplog(intervals, order = 'elevation')"
   ]
  },
  {
   "cell_type": "code",
   "execution_count": 21,
   "metadata": {},
   "outputs": [
    {
     "data": {
      "image/png": "[encoded data removed]",
      "text/plain": [
       "<Figure size 108x540 with 1 Axes>"
      ]
     },
     "metadata": {
      "needs_background": "light"
     },
     "output_type": "display_data"
    }
   ],
   "source": [
    "s.plot(aspect=5)"
   ]
  },
  {
   "cell_type": "code",
   "execution_count": 23,
   "metadata": {},
   "outputs": [],
   "source": [
    "striplogs = []\n",
    "for las_file in las_files:\n",
    "    striplogs.append(log_section(las_file))"
   ]
  },
  {
   "cell_type": "markdown",
   "metadata": {},
   "source": [
    "Now make a legend and add widths."
   ]
  },
  {
   "cell_type": "code",
   "execution_count": 24,
   "metadata": {},
   "outputs": [
    {
     "data": {
      "image/png": "[encoded data removed]",
      "text/plain": [
       "<Figure size 288x72 with 1 Axes>"
      ]
     },
     "metadata": {
      "needs_background": "light"
     },
     "output_type": "display_data"
    },
    {
     "data": {
      "image/png": "[encoded data removed]",
      "text/plain": [
       "<Figure size 288x72 with 1 Axes>"
      ]
     },
     "metadata": {
      "needs_background": "light"
     },
     "output_type": "display_data"
    },
    {
     "data": {
      "image/png": "[encoded data removed]",
      "text/plain": [
       "<Figure size 288x72 with 1 Axes>"
      ]
     },
     "metadata": {
      "needs_background": "light"
     },
     "output_type": "display_data"
    },
    {
     "data": {
      "image/png": "[encoded data removed]",
      "text/plain": [
       "<Figure size 288x72 with 1 Axes>"
      ]
     },
     "metadata": {
      "needs_background": "light"
     },
     "output_type": "display_data"
    },
    {
     "data": {
      "image/png": "[encoded data removed]",
      "text/plain": [
       "<Figure size 288x72 with 1 Axes>"
      ]
     },
     "metadata": {
      "needs_background": "light"
     },
     "output_type": "display_data"
    }
   ],
   "source": [
    "from striplog import Legend\n",
    "\n",
    "comps = list(set(i.primary for i in s))\n",
    "legend = Legend.random(comps)\n",
    "legend.plot()"
   ]
  },
  {
   "cell_type": "code",
   "execution_count": 25,
   "metadata": {},
   "outputs": [],
   "source": [
    "for d in legend:\n",
    "    d.width = d.component['grainsize']"
   ]
  },
  {
   "cell_type": "markdown",
   "metadata": {},
   "source": [
    "#### Plot the `striplog` with grain size widths"
   ]
  },
  {
   "cell_type": "code",
   "execution_count": 35,
   "metadata": {},
   "outputs": [
    {
     "data": {
      "image/png": "[encoded data removed]",
      "text/plain": [
       "<Figure size 108x1080 with 1 Axes>"
      ]
     },
     "metadata": {
      "needs_background": "light"
     },
     "output_type": "display_data"
    }
   ],
   "source": [
    "s.plot(legend=legend, ladder=True)"
   ]
  },
  {
   "cell_type": "markdown",
   "metadata": {},
   "source": [
    "### Load again but with a shift, to make other `striplogs` in panel"
   ]
  },
  {
   "cell_type": "code",
   "execution_count": 31,
   "metadata": {},
   "outputs": [],
   "source": [
    "intervals = []\n",
    "for (top, gs), (base, _) in zip(l.data[:-1], l.data[1:]):\n",
    "    properties = {\n",
    "        'grainsize': gs,\n",
    "        'lithology': lithologies[int(gs)] if not np.isnan(gs) else 'none',\n",
    "    }\n",
    "    comp = Component(properties=properties)\n",
    "    interval = Interval(top=-top+10, base=-base+10, components=[comp])\n",
    "    intervals.append(interval)\n",
    "\n",
    "s2 = Striplog(intervals, order='elevation')"
   ]
  },
  {
   "cell_type": "code",
   "execution_count": 32,
   "metadata": {},
   "outputs": [
    {
     "data": {
      "text/html": [
       "<table><tr><td style=\"width:2em; background-color:#DDDDDD\" rowspan=\"6\"></td><td><strong>top</strong></td><td>90.288</td></tr><tr><td><strong>primary</strong></td><td><table><tr><td><strong>grainsize</strong></td><td>0.0</td></tr><tr><td><strong>lithology</strong></td><td>claystone</td></tr></table></td></tr><tr><td><strong>summary</strong></td><td>1.38 m of 0.0, claystone</td></tr><tr><td><strong>description</strong></td><td></td></tr><tr><td><strong>data</strong></td><td><table></table></td></tr><tr><td><strong>base</strong></td><td>88.906</td></tr></table>"
      ],
      "text/plain": [
       "Interval({'top': Position({'middle': 90.288, 'units': 'm'}), 'base': Position({'middle': 88.906, 'units': 'm'}), 'description': '', 'data': {}, 'components': [Component({'grainsize': 0.0, 'lithology': 'claystone'})]})"
      ]
     },
     "execution_count": 32,
     "metadata": {},
     "output_type": "execute_result"
    }
   ],
   "source": [
    "s[0]"
   ]
  },
  {
   "cell_type": "code",
   "execution_count": 33,
   "metadata": {},
   "outputs": [],
   "source": [
    "for d in legend:\n",
    "    d.width = d.component['grainsize']"
   ]
  },
  {
   "cell_type": "markdown",
   "metadata": {},
   "source": [
    "### Let's plot the `striplogs` into a panel"
   ]
  },
  {
   "cell_type": "code",
   "execution_count": 34,
   "metadata": {},
   "outputs": [
    {
     "data": {
      "text/plain": [
       "(0, 110)"
      ]
     },
     "execution_count": 34,
     "metadata": {},
     "output_type": "execute_result"
    },
    {
     "data": {
      "image/png": "[encoded data removed]",
      "text/plain": [
       "<Figure size 720x720 with 4 Axes>"
      ]
     },
     "metadata": {
      "needs_background": "light"
     },
     "output_type": "display_data"
    }
   ],
   "source": [
    "%matplotlib inline\n",
    "import matplotlib.pyplot as plt\n",
    "\n",
    "fig, axs = plt.subplots(figsize=(10, 10), ncols=len(striplogs), sharey=True)\n",
    "\n",
    "for i, s in enumerate(striplogs):\n",
    "    \n",
    "    ax = axs[i]\n",
    "    ax = s.plot(ax=ax, legend=legend, ladder=True)\n",
    "\n",
    "plt.ylim(0, 110)"
   ]
  },
  {
   "cell_type": "code",
   "execution_count": null,
   "metadata": {},
   "outputs": [],
   "source": []
  }
 ],
 "metadata": {
  "kernelspec": {
   "display_name": "sedlog",
   "language": "python",
   "name": "sedlog"
  },
  "language_info": {
   "codemirror_mode": {
    "name": "ipython",
    "version": 3
   },
   "file_extension": ".py",
   "mimetype": "text/x-python",
   "name": "python",
   "nbconvert_exporter": "python",
   "pygments_lexer": "ipython3",
   "version": "3.7.2"
  }
 },
 "nbformat": 4,
 "nbformat_minor": 2
}
