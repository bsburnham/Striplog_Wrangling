{
 "cells": [
  {
   "cell_type": "markdown",
   "metadata": {},
   "source": [
    "### Sedimentary Log Estimator\n",
    "\n",
    "This notebook will allow a user to import sedimentary log data and generate a `striplog` from it. \n",
    "\n",
    "Image --> `Striplog`"
   ]
  },
  {
   "cell_type": "markdown",
   "metadata": {},
   "source": [
    "### Import the useful stuff"
   ]
  },
  {
   "cell_type": "code",
   "execution_count": 1,
   "metadata": {},
   "outputs": [
    {
     "data": {
      "text/plain": [
       "'0.8.9'"
      ]
     },
     "execution_count": 1,
     "metadata": {},
     "output_type": "execute_result"
    }
   ],
   "source": [
    "import numpy as np\n",
    "import pandas as pd\n",
    "import lasio\n",
    "import welly\n",
    "import striplog\n",
    "import matplotlib.pyplot as plt\n",
    "import matplotlib.colors as colors\n",
    "striplog.__version__"
   ]
  },
  {
   "cell_type": "code",
   "execution_count": 2,
   "metadata": {},
   "outputs": [],
   "source": [
    "from striplog import Striplog, Legend, Lexicon, Interval, Component"
   ]
  },
  {
   "cell_type": "code",
   "execution_count": 3,
   "metadata": {},
   "outputs": [],
   "source": [
    "legend = Legend.builtin('NSDOE')\n",
    "lexicon = Lexicon.default()"
   ]
  },
  {
   "cell_type": "markdown",
   "metadata": {},
   "source": [
    "Import our sedimentary log's discretised from an image\n",
    "\n",
    "Sort the values with the highest elevation of the log at the top"
   ]
  },
  {
   "cell_type": "code",
   "execution_count": 4,
   "metadata": {},
   "outputs": [
    {
     "data": {
      "text/html": [
       "<div>\n",
       "<style scoped>\n",
       "    .dataframe tbody tr th:only-of-type {\n",
       "        vertical-align: middle;\n",
       "    }\n",
       "\n",
       "    .dataframe tbody tr th {\n",
       "        vertical-align: top;\n",
       "    }\n",
       "\n",
       "    .dataframe thead th {\n",
       "        text-align: right;\n",
       "    }\n",
       "</style>\n",
       "<table border=\"1\" class=\"dataframe\">\n",
       "  <thead>\n",
       "    <tr style=\"text-align: right;\">\n",
       "      <th></th>\n",
       "      <th>grainsize</th>\n",
       "      <th>depth</th>\n",
       "    </tr>\n",
       "  </thead>\n",
       "  <tbody>\n",
       "    <tr>\n",
       "      <th>1762</th>\n",
       "      <td>1.845</td>\n",
       "      <td>48.535</td>\n",
       "    </tr>\n",
       "    <tr>\n",
       "      <th>1876</th>\n",
       "      <td>2.190</td>\n",
       "      <td>48.535</td>\n",
       "    </tr>\n",
       "    <tr>\n",
       "      <th>1622</th>\n",
       "      <td>1.500</td>\n",
       "      <td>48.535</td>\n",
       "    </tr>\n",
       "    <tr>\n",
       "      <th>1799</th>\n",
       "      <td>1.960</td>\n",
       "      <td>48.535</td>\n",
       "    </tr>\n",
       "    <tr>\n",
       "      <th>1913</th>\n",
       "      <td>2.305</td>\n",
       "      <td>48.535</td>\n",
       "    </tr>\n",
       "  </tbody>\n",
       "</table>\n",
       "</div>"
      ],
      "text/plain": [
       "      grainsize   depth\n",
       "1762      1.845  48.535\n",
       "1876      2.190  48.535\n",
       "1622      1.500  48.535\n",
       "1799      1.960  48.535\n",
       "1913      2.305  48.535"
      ]
     },
     "execution_count": 4,
     "metadata": {},
     "output_type": "execute_result"
    }
   ],
   "source": [
    "df = pd.read_csv(\"cairn_pts_WebPlot.csv\", names=['grainsize', 'depth']).round(3)\n",
    "df = df.sort_values(by='depth', ascending=False)\n",
    "df.head()"
   ]
  },
  {
   "cell_type": "markdown",
   "metadata": {},
   "source": [
    "Looks like our input has negative 'depth' from the ground (this is elevation), this isn't right.\n",
    "\n",
    "Well need to clean that up"
   ]
  },
  {
   "cell_type": "code",
   "execution_count": 5,
   "metadata": {},
   "outputs": [
    {
     "data": {
      "text/plain": [
       "-1.148"
      ]
     },
     "execution_count": 5,
     "metadata": {},
     "output_type": "execute_result"
    }
   ],
   "source": [
    "elev_correction = df['depth'].min()\n",
    "elev_correction"
   ]
  },
  {
   "cell_type": "markdown",
   "metadata": {},
   "source": [
    "Take the elevation difference away from our log and sort by the _new_ elevation to check"
   ]
  },
  {
   "cell_type": "code",
   "execution_count": 6,
   "metadata": {},
   "outputs": [
    {
     "data": {
      "text/html": [
       "<div>\n",
       "<style scoped>\n",
       "    .dataframe tbody tr th:only-of-type {\n",
       "        vertical-align: middle;\n",
       "    }\n",
       "\n",
       "    .dataframe tbody tr th {\n",
       "        vertical-align: top;\n",
       "    }\n",
       "\n",
       "    .dataframe thead th {\n",
       "        text-align: right;\n",
       "    }\n",
       "</style>\n",
       "<table border=\"1\" class=\"dataframe\">\n",
       "  <thead>\n",
       "    <tr style=\"text-align: right;\">\n",
       "      <th></th>\n",
       "      <th>grainsize</th>\n",
       "      <th>depth</th>\n",
       "      <th>elevation</th>\n",
       "    </tr>\n",
       "  </thead>\n",
       "  <tbody>\n",
       "    <tr>\n",
       "      <th>1762</th>\n",
       "      <td>1.845</td>\n",
       "      <td>48.535</td>\n",
       "      <td>49.683</td>\n",
       "    </tr>\n",
       "    <tr>\n",
       "      <th>1876</th>\n",
       "      <td>2.190</td>\n",
       "      <td>48.535</td>\n",
       "      <td>49.683</td>\n",
       "    </tr>\n",
       "    <tr>\n",
       "      <th>1622</th>\n",
       "      <td>1.500</td>\n",
       "      <td>48.535</td>\n",
       "      <td>49.683</td>\n",
       "    </tr>\n",
       "    <tr>\n",
       "      <th>1799</th>\n",
       "      <td>1.960</td>\n",
       "      <td>48.535</td>\n",
       "      <td>49.683</td>\n",
       "    </tr>\n",
       "    <tr>\n",
       "      <th>1913</th>\n",
       "      <td>2.305</td>\n",
       "      <td>48.535</td>\n",
       "      <td>49.683</td>\n",
       "    </tr>\n",
       "    <tr>\n",
       "      <th>...</th>\n",
       "      <td>...</td>\n",
       "      <td>...</td>\n",
       "      <td>...</td>\n",
       "    </tr>\n",
       "    <tr>\n",
       "      <th>3013</th>\n",
       "      <td>4.643</td>\n",
       "      <td>-1.081</td>\n",
       "      <td>0.067</td>\n",
       "    </tr>\n",
       "    <tr>\n",
       "      <th>2958</th>\n",
       "      <td>4.528</td>\n",
       "      <td>-1.081</td>\n",
       "      <td>0.067</td>\n",
       "    </tr>\n",
       "    <tr>\n",
       "      <th>3064</th>\n",
       "      <td>4.758</td>\n",
       "      <td>-1.081</td>\n",
       "      <td>0.067</td>\n",
       "    </tr>\n",
       "    <tr>\n",
       "      <th>1</th>\n",
       "      <td>-1.145</td>\n",
       "      <td>-1.120</td>\n",
       "      <td>0.028</td>\n",
       "    </tr>\n",
       "    <tr>\n",
       "      <th>2</th>\n",
       "      <td>-1.145</td>\n",
       "      <td>-1.148</td>\n",
       "      <td>0.000</td>\n",
       "    </tr>\n",
       "  </tbody>\n",
       "</table>\n",
       "<p>3322 rows × 3 columns</p>\n",
       "</div>"
      ],
      "text/plain": [
       "      grainsize   depth  elevation\n",
       "1762      1.845  48.535     49.683\n",
       "1876      2.190  48.535     49.683\n",
       "1622      1.500  48.535     49.683\n",
       "1799      1.960  48.535     49.683\n",
       "1913      2.305  48.535     49.683\n",
       "...         ...     ...        ...\n",
       "3013      4.643  -1.081      0.067\n",
       "2958      4.528  -1.081      0.067\n",
       "3064      4.758  -1.081      0.067\n",
       "1        -1.145  -1.120      0.028\n",
       "2        -1.145  -1.148      0.000\n",
       "\n",
       "[3322 rows x 3 columns]"
      ]
     },
     "execution_count": 6,
     "metadata": {},
     "output_type": "execute_result"
    }
   ],
   "source": [
    "df['elevation'] = df['depth'].add(abs(elev_correction))\n",
    "df"
   ]
  },
  {
   "cell_type": "code",
   "execution_count": 7,
   "metadata": {},
   "outputs": [
    {
     "data": {
      "text/html": [
       "<div>\n",
       "<style scoped>\n",
       "    .dataframe tbody tr th:only-of-type {\n",
       "        vertical-align: middle;\n",
       "    }\n",
       "\n",
       "    .dataframe tbody tr th {\n",
       "        vertical-align: top;\n",
       "    }\n",
       "\n",
       "    .dataframe thead th {\n",
       "        text-align: right;\n",
       "    }\n",
       "</style>\n",
       "<table border=\"1\" class=\"dataframe\">\n",
       "  <thead>\n",
       "    <tr style=\"text-align: right;\">\n",
       "      <th></th>\n",
       "      <th>grainsize</th>\n",
       "      <th>elevation</th>\n",
       "    </tr>\n",
       "  </thead>\n",
       "  <tbody>\n",
       "    <tr>\n",
       "      <th>1762</th>\n",
       "      <td>1.845</td>\n",
       "      <td>49.683</td>\n",
       "    </tr>\n",
       "    <tr>\n",
       "      <th>1876</th>\n",
       "      <td>2.190</td>\n",
       "      <td>49.683</td>\n",
       "    </tr>\n",
       "    <tr>\n",
       "      <th>1622</th>\n",
       "      <td>1.500</td>\n",
       "      <td>49.683</td>\n",
       "    </tr>\n",
       "    <tr>\n",
       "      <th>1799</th>\n",
       "      <td>1.960</td>\n",
       "      <td>49.683</td>\n",
       "    </tr>\n",
       "    <tr>\n",
       "      <th>1913</th>\n",
       "      <td>2.305</td>\n",
       "      <td>49.683</td>\n",
       "    </tr>\n",
       "  </tbody>\n",
       "</table>\n",
       "</div>"
      ],
      "text/plain": [
       "      grainsize  elevation\n",
       "1762      1.845     49.683\n",
       "1876      2.190     49.683\n",
       "1622      1.500     49.683\n",
       "1799      1.960     49.683\n",
       "1913      2.305     49.683"
      ]
     },
     "execution_count": 7,
     "metadata": {},
     "output_type": "execute_result"
    }
   ],
   "source": [
    "df = df.drop(columns=['depth'])\n",
    "df.head()"
   ]
  },
  {
   "cell_type": "markdown",
   "metadata": {},
   "source": [
    "We'll also need to chnage all of the values that have a negative grainsize (that doesn't make sense) to a `'0'` grainsize. This was due to an error in the extraction of the curve"
   ]
  },
  {
   "cell_type": "code",
   "execution_count": 8,
   "metadata": {},
   "outputs": [
    {
     "data": {
      "text/html": [
       "<div>\n",
       "<style scoped>\n",
       "    .dataframe tbody tr th:only-of-type {\n",
       "        vertical-align: middle;\n",
       "    }\n",
       "\n",
       "    .dataframe tbody tr th {\n",
       "        vertical-align: top;\n",
       "    }\n",
       "\n",
       "    .dataframe thead th {\n",
       "        text-align: right;\n",
       "    }\n",
       "</style>\n",
       "<table border=\"1\" class=\"dataframe\">\n",
       "  <thead>\n",
       "    <tr style=\"text-align: right;\">\n",
       "      <th></th>\n",
       "      <th>grainsize</th>\n",
       "      <th>elevation</th>\n",
       "    </tr>\n",
       "  </thead>\n",
       "  <tbody>\n",
       "    <tr>\n",
       "      <th>1762</th>\n",
       "      <td>1.845</td>\n",
       "      <td>49.683</td>\n",
       "    </tr>\n",
       "    <tr>\n",
       "      <th>1876</th>\n",
       "      <td>2.190</td>\n",
       "      <td>49.683</td>\n",
       "    </tr>\n",
       "    <tr>\n",
       "      <th>1622</th>\n",
       "      <td>1.500</td>\n",
       "      <td>49.683</td>\n",
       "    </tr>\n",
       "    <tr>\n",
       "      <th>1799</th>\n",
       "      <td>1.960</td>\n",
       "      <td>49.683</td>\n",
       "    </tr>\n",
       "    <tr>\n",
       "      <th>1913</th>\n",
       "      <td>2.305</td>\n",
       "      <td>49.683</td>\n",
       "    </tr>\n",
       "  </tbody>\n",
       "</table>\n",
       "</div>"
      ],
      "text/plain": [
       "      grainsize  elevation\n",
       "1762      1.845     49.683\n",
       "1876      2.190     49.683\n",
       "1622      1.500     49.683\n",
       "1799      1.960     49.683\n",
       "1913      2.305     49.683"
      ]
     },
     "execution_count": 8,
     "metadata": {},
     "output_type": "execute_result"
    }
   ],
   "source": [
    "df.loc[df.grainsize < 0, 'grainsize'] = 0\n",
    "df.sort_values(['elevation'])\n",
    "df.head()"
   ]
  },
  {
   "cell_type": "code",
   "execution_count": 9,
   "metadata": {},
   "outputs": [
    {
     "data": {
      "text/plain": [
       "0.0"
      ]
     },
     "execution_count": 9,
     "metadata": {},
     "output_type": "execute_result"
    }
   ],
   "source": [
    "df['grainsize'].min()"
   ]
  },
  {
   "cell_type": "markdown",
   "metadata": {},
   "source": [
    "We'll need the `grainsize` values from the DF for our `welly` `Curve` object"
   ]
  },
  {
   "cell_type": "code",
   "execution_count": 10,
   "metadata": {},
   "outputs": [
    {
     "data": {
      "text/plain": [
       "array([1.845, 2.19 , 1.5  , ..., 4.758, 0.   , 0.   ])"
      ]
     },
     "execution_count": 10,
     "metadata": {},
     "output_type": "execute_result"
    }
   ],
   "source": [
    "gz = df['grainsize'].values\n",
    "gz"
   ]
  },
  {
   "cell_type": "markdown",
   "metadata": {},
   "source": [
    "We'll also need the elevation values from the DF for our `welly` `Curve` object"
   ]
  },
  {
   "cell_type": "code",
   "execution_count": 11,
   "metadata": {},
   "outputs": [
    {
     "data": {
      "text/plain": [
       "array([4.9683e+01, 4.9683e+01, 4.9683e+01, ..., 6.7000e-02, 2.8000e-02,\n",
       "       0.0000e+00])"
      ]
     },
     "execution_count": 11,
     "metadata": {},
     "output_type": "execute_result"
    }
   ],
   "source": [
    "z = df['elevation'].values\n",
    "z"
   ]
  },
  {
   "cell_type": "code",
   "execution_count": 20,
   "metadata": {},
   "outputs": [
    {
     "data": {
      "text/plain": [
       "1762    1.0\n",
       "1876    2.0\n",
       "1622    1.0\n",
       "1799    1.0\n",
       "1913    2.0\n",
       "       ... \n",
       "3013    4.0\n",
       "2958    4.0\n",
       "3064    4.0\n",
       "1       0.0\n",
       "2       0.0\n",
       "Name: facies, Length: 3322, dtype: float64"
      ]
     },
     "execution_count": 20,
     "metadata": {},
     "output_type": "execute_result"
    }
   ],
   "source": [
    "facies = df['facies'] = df['facies'].astype(float)\n",
    "facies"
   ]
  },
  {
   "cell_type": "markdown",
   "metadata": {},
   "source": [
    "#### Plot the sedimentary log points coloured by grainsize"
   ]
  },
  {
   "cell_type": "code",
   "execution_count": 21,
   "metadata": {},
   "outputs": [
    {
     "data": {
      "text/html": [
       "<div>\n",
       "<style scoped>\n",
       "    .dataframe tbody tr th:only-of-type {\n",
       "        vertical-align: middle;\n",
       "    }\n",
       "\n",
       "    .dataframe tbody tr th {\n",
       "        vertical-align: top;\n",
       "    }\n",
       "\n",
       "    .dataframe thead th {\n",
       "        text-align: right;\n",
       "    }\n",
       "</style>\n",
       "<table border=\"1\" class=\"dataframe\">\n",
       "  <thead>\n",
       "    <tr style=\"text-align: right;\">\n",
       "      <th></th>\n",
       "      <th>grainsize</th>\n",
       "      <th>elevation</th>\n",
       "      <th>facies</th>\n",
       "    </tr>\n",
       "  </thead>\n",
       "  <tbody>\n",
       "    <tr>\n",
       "      <th>1762</th>\n",
       "      <td>1.845</td>\n",
       "      <td>49.683</td>\n",
       "      <td>1</td>\n",
       "    </tr>\n",
       "    <tr>\n",
       "      <th>1876</th>\n",
       "      <td>2.190</td>\n",
       "      <td>49.683</td>\n",
       "      <td>2</td>\n",
       "    </tr>\n",
       "    <tr>\n",
       "      <th>1622</th>\n",
       "      <td>1.500</td>\n",
       "      <td>49.683</td>\n",
       "      <td>1</td>\n",
       "    </tr>\n",
       "    <tr>\n",
       "      <th>1799</th>\n",
       "      <td>1.960</td>\n",
       "      <td>49.683</td>\n",
       "      <td>1</td>\n",
       "    </tr>\n",
       "    <tr>\n",
       "      <th>1913</th>\n",
       "      <td>2.305</td>\n",
       "      <td>49.683</td>\n",
       "      <td>2</td>\n",
       "    </tr>\n",
       "  </tbody>\n",
       "</table>\n",
       "</div>"
      ],
      "text/plain": [
       "      grainsize  elevation facies\n",
       "1762      1.845     49.683      1\n",
       "1876      2.190     49.683      2\n",
       "1622      1.500     49.683      1\n",
       "1799      1.960     49.683      1\n",
       "1913      2.305     49.683      2"
      ]
     },
     "execution_count": 21,
     "metadata": {},
     "output_type": "execute_result"
    }
   ],
   "source": [
    "facies_conditions = [\n",
    "    (df['grainsize']<1), \n",
    "    (df['grainsize']>1) & (df['grainsize']<2),\n",
    "    (df['grainsize']>2) & (df['grainsize']<3),\n",
    "    (df['grainsize']>3) & (df['grainsize']<4),\n",
    "    (df['grainsize']>4) & (df['grainsize']<5),\n",
    "    (df['grainsize']>5) & (df['grainsize']<6),\n",
    "    (df['grainsize']>6) & (df['grainsize']<7),\n",
    "    (df['grainsize']>7) & (df['grainsize']<8)]\n",
    "\n",
    "choices = ['0', '1', '2', '3', '4', '5', '6', '7']\n",
    "\n",
    "df['facies'] = np.select(facies_conditions, choices, default='sand')\n",
    "df.head()"
   ]
  },
  {
   "cell_type": "code",
   "execution_count": 25,
   "metadata": {},
   "outputs": [
    {
     "data": {
      "text/plain": [
       "<AxesSubplot:xlabel='grainsize', ylabel='elevation'>"
      ]
     },
     "execution_count": 25,
     "metadata": {},
     "output_type": "execute_result"
    },
    {
     "data": {
      "image/png": "[encoded data removed]",
      "text/plain": [
       "<Figure size 216x720 with 2 Axes>"
      ]
     },
     "metadata": {
      "needs_background": "light"
     },
     "output_type": "display_data"
    }
   ],
   "source": [
    "cmap = colors.ListedColormap(['midnightblue', 'royalblue',\n",
    "                              'dodgerblue', 'lightskyblue', \n",
    "                              'sandybrown', 'red', 'darkred'])\n",
    "\n",
    "df.plot.scatter(x='grainsize', y='elevation', c=facies,\n",
    "                colormap=cmap, s=3, xticks=range(0,8), yticks=range(0,51), figsize=(3,10))"
   ]
  },
  {
   "cell_type": "markdown",
   "metadata": {},
   "source": [
    "Let's create a `well` `Curve` to work with the data and turn into a `Striplog`"
   ]
  },
  {
   "cell_type": "code",
   "execution_count": 26,
   "metadata": {},
   "outputs": [
    {
     "data": {
      "text/plain": [
       "'0.4.7'"
      ]
     },
     "execution_count": 26,
     "metadata": {},
     "output_type": "execute_result"
    }
   ],
   "source": [
    "import welly\n",
    "welly.__version__"
   ]
  },
  {
   "cell_type": "code",
   "execution_count": 27,
   "metadata": {},
   "outputs": [],
   "source": [
    "from welly import Curve"
   ]
  },
  {
   "cell_type": "code",
   "execution_count": 28,
   "metadata": {},
   "outputs": [],
   "source": [
    "w = welly.Well()"
   ]
  },
  {
   "cell_type": "markdown",
   "metadata": {},
   "source": [
    "Add the parameters from the field data to create the well"
   ]
  },
  {
   "cell_type": "code",
   "execution_count": 29,
   "metadata": {},
   "outputs": [],
   "source": [
    "params = {'header':{'Name':'Cairn'}, 'location':{}, 'mnemonic': 'Cairn',\n",
    "         'service_company': 'brian', 'date': 'PhD', 'run': '2'}\n",
    "params['location'] = {'Easting_x': 723290.82, 'Northing_y':4653815.56} "
   ]
  },
  {
   "cell_type": "code",
   "execution_count": 30,
   "metadata": {},
   "outputs": [],
   "source": [
    "h = welly.Header(params['header'])\n",
    "l = welly.Location(params['location'])"
   ]
  },
  {
   "cell_type": "code",
   "execution_count": 31,
   "metadata": {},
   "outputs": [
    {
     "data": {
      "text/html": [
       "<table><tr><th style=\"text-align:center;\" colspan=\"2\"><br><small></small></th></tr><tr><td><strong>td</strong></td><td>None</td></tr><tr><td><strong>crs</strong></td><td>CRS({})</td></tr><tr><td><strong>Easting_x</strong></td><td>723290.82</td></tr><tr><td><strong>Northing_y</strong></td><td>4653815.56</td></tr><tr><td><strong>data</strong></td><td></td></tr></table>"
      ],
      "text/plain": [
       "Well(uwi: '', 0 curves: [])"
      ]
     },
     "execution_count": 31,
     "metadata": {},
     "output_type": "execute_result"
    }
   ],
   "source": [
    "w = welly.Well({'header': h, 'location': l})\n",
    "w"
   ]
  },
  {
   "cell_type": "markdown",
   "metadata": {},
   "source": [
    "We need to get the Z values "
   ]
  },
  {
   "cell_type": "code",
   "execution_count": 32,
   "metadata": {},
   "outputs": [
    {
     "data": {
      "text/plain": [
       "array([4.9683e+01, 4.9683e+01, 4.9683e+01, ..., 6.7000e-02, 2.8000e-02,\n",
       "       0.0000e+00])"
      ]
     },
     "execution_count": 32,
     "metadata": {},
     "output_type": "execute_result"
    }
   ],
   "source": [
    "z"
   ]
  },
  {
   "cell_type": "markdown",
   "metadata": {},
   "source": [
    "Give the well the top and bottom that's required so it knows where it is. \n",
    "Also estimae the number of samples based on the Z values"
   ]
  },
  {
   "cell_type": "code",
   "execution_count": 33,
   "metadata": {},
   "outputs": [
    {
     "data": {
      "text/plain": [
       "0.0"
      ]
     },
     "execution_count": 33,
     "metadata": {},
     "output_type": "execute_result"
    }
   ],
   "source": [
    "top = np.min(z)\n",
    "bottom = np.max(z)\n",
    "nsamples = len(z)\n",
    "top"
   ]
  },
  {
   "cell_type": "markdown",
   "metadata": {},
   "source": [
    "Flip the z axis since `welly` works in **positive** depth, outcrops are in elevation"
   ]
  },
  {
   "cell_type": "code",
   "execution_count": 35,
   "metadata": {},
   "outputs": [
    {
     "data": {
      "text/plain": [
       "49.683"
      ]
     },
     "execution_count": 35,
     "metadata": {},
     "output_type": "execute_result"
    }
   ],
   "source": [
    "top_f = np.max(z)\n",
    "bottom_f = np.min(z)\n",
    "nsamples = len(z)\n",
    "top_f"
   ]
  },
  {
   "cell_type": "markdown",
   "metadata": {},
   "source": [
    "Make a new well basis - we want the thickness of the log not using the samples as the 'depth'"
   ]
  },
  {
   "cell_type": "code",
   "execution_count": 36,
   "metadata": {},
   "outputs": [
    {
     "data": {
      "text/plain": [
       "array([0.00000000e+00, 1.49602529e-02, 2.99205059e-02, ...,\n",
       "       4.96530795e+01, 4.96680397e+01, 4.96830000e+01])"
      ]
     },
     "execution_count": 36,
     "metadata": {},
     "output_type": "execute_result"
    }
   ],
   "source": [
    "depth_basis = np.linspace(top, bottom, nsamples)\n",
    "depth_basis"
   ]
  },
  {
   "cell_type": "markdown",
   "metadata": {},
   "source": [
    "Creat a new `Welly` `Curve` for the log"
   ]
  },
  {
   "cell_type": "code",
   "execution_count": 37,
   "metadata": {},
   "outputs": [
    {
     "data": {
      "text/html": [
       "<table><tr><th style=\"text-align:center;\" colspan=\"2\">Cairn [None]</th></tr><tr><td style=\"text-align:center;\" colspan=\"2\">0.0000 : 49.6830 : 0.0150</td></tr><tr><td><strong>run</strong></td><td>2</td></tr><tr><td><strong>null</strong></td><td>-999.25</td></tr><tr><td><strong>service_company</strong></td><td>brian</td></tr><tr><td><strong>date</strong></td><td>PhD</td></tr><tr><td><strong>code</strong></td><td>None</td></tr><tr><td><strong>basis_units</strong></td><td>None</td></tr><tr><td><strong>header</strong></td><td>{'Name': 'Cairn'}</td></tr><tr><td><strong>location</strong></td><td>{'Easting_x': 723290.82, 'Northing_y': 4653815.56}</td></tr><tr><th style=\"border-top: 2px solid #000; text-align:center;\" colspan=\"2\"><strong>Stats</strong></th></tr><tr><td><strong>samples (NaNs)</strong></td><td>3322 (0)</td></tr><tr><td><strong><sub>min</sub> mean <sup>max</sup></strong></td><td><sub>0.00</sub> 2.157 <sup>6.16</sup></td></tr><tr><th style=\"border-top: 2px solid #000;\">Depth</th><th style=\"border-top: 2px solid #000;\">Value</th></tr><tr><td>0.0000</td><td>1.8450</td></tr><tr><td>0.0150</td><td>2.1900</td></tr><tr><td>0.0299</td><td>1.5000</td></tr><tr><td>⋮</td><td>⋮</td></tr><tr><td>49.6531</td><td>4.7580</td></tr><tr><td>49.6680</td><td>0.0000</td></tr><tr><td>49.6830</td><td>0.0000</td></tr></table>"
      ],
      "text/plain": [
       "Curve([1.845, 2.19 , 1.5  , ..., 4.758, 0.   , 0.   ])"
      ]
     },
     "execution_count": 37,
     "metadata": {},
     "output_type": "execute_result"
    }
   ],
   "source": [
    "cairn = Curve(gz, basis=depth_basis, params=params)\n",
    "cairn"
   ]
  },
  {
   "cell_type": "markdown",
   "metadata": {},
   "source": [
    "Quick plot to check what the curve looks like\n"
   ]
  },
  {
   "cell_type": "code",
   "execution_count": 38,
   "metadata": {},
   "outputs": [
    {
     "data": {
      "image/png": "[encoded data removed]",
      "text/plain": [
       "<Figure size 144x720 with 1 Axes>"
      ]
     },
     "metadata": {
      "needs_background": "light"
     },
     "output_type": "display_data"
    }
   ],
   "source": [
    "cairn.plot()"
   ]
  },
  {
   "cell_type": "markdown",
   "metadata": {},
   "source": [
    "This kind of works, but the erosive bases in the log aren't right"
   ]
  },
  {
   "cell_type": "markdown",
   "metadata": {},
   "source": [
    "We have the give our new `Welly` well affectionately called `Cairn` a basis"
   ]
  },
  {
   "cell_type": "code",
   "execution_count": 131,
   "metadata": {},
   "outputs": [
    {
     "data": {
      "text/plain": [
       "array([0.00000000e+00, 1.49602529e-02, 2.99205059e-02, ...,\n",
       "       4.96530795e+01, 4.96680397e+01, 4.96830000e+01])"
      ]
     },
     "execution_count": 131,
     "metadata": {},
     "output_type": "execute_result"
    }
   ],
   "source": [
    "cairn.basis"
   ]
  },
  {
   "cell_type": "markdown",
   "metadata": {},
   "source": [
    "We need to add the `Curve` to the `Welly` `well`"
   ]
  },
  {
   "cell_type": "code",
   "execution_count": 39,
   "metadata": {},
   "outputs": [],
   "source": [
    "w.data['cairn'] = cairn"
   ]
  },
  {
   "cell_type": "markdown",
   "metadata": {},
   "source": [
    "Now check that we've added the curve"
   ]
  },
  {
   "cell_type": "code",
   "execution_count": 40,
   "metadata": {},
   "outputs": [
    {
     "data": {
      "text/html": [
       "<table><tr><th style=\"text-align:center;\" colspan=\"2\">Cairn [None]</th></tr><tr><td style=\"text-align:center;\" colspan=\"2\">0.0000 : 49.6830 : 0.0150</td></tr><tr><td><strong>run</strong></td><td>2</td></tr><tr><td><strong>null</strong></td><td>-999.25</td></tr><tr><td><strong>service_company</strong></td><td>brian</td></tr><tr><td><strong>date</strong></td><td>PhD</td></tr><tr><td><strong>code</strong></td><td>None</td></tr><tr><td><strong>basis_units</strong></td><td>None</td></tr><tr><td><strong>header</strong></td><td>{'Name': 'Cairn'}</td></tr><tr><td><strong>location</strong></td><td>{'Easting_x': 723290.82, 'Northing_y': 4653815.56}</td></tr><tr><th style=\"border-top: 2px solid #000; text-align:center;\" colspan=\"2\"><strong>Stats</strong></th></tr><tr><td><strong>samples (NaNs)</strong></td><td>3322 (0)</td></tr><tr><td><strong><sub>min</sub> mean <sup>max</sup></strong></td><td><sub>0.00</sub> 2.157 <sup>6.16</sup></td></tr><tr><th style=\"border-top: 2px solid #000;\">Depth</th><th style=\"border-top: 2px solid #000;\">Value</th></tr><tr><td>0.0000</td><td>1.8450</td></tr><tr><td>0.0150</td><td>2.1900</td></tr><tr><td>0.0299</td><td>1.5000</td></tr><tr><td>⋮</td><td>⋮</td></tr><tr><td>49.6531</td><td>4.7580</td></tr><tr><td>49.6680</td><td>0.0000</td></tr><tr><td>49.6830</td><td>0.0000</td></tr></table>"
      ],
      "text/plain": [
       "Curve([1.845, 2.19 , 1.5  , ..., 4.758, 0.   , 0.   ])"
      ]
     },
     "execution_count": 40,
     "metadata": {},
     "output_type": "execute_result"
    }
   ],
   "source": [
    "w.data['cairn']"
   ]
  },
  {
   "cell_type": "markdown",
   "metadata": {},
   "source": [
    "Let's do a quick plot of the Well"
   ]
  },
  {
   "cell_type": "code",
   "execution_count": 41,
   "metadata": {},
   "outputs": [
    {
     "data": {
      "image/png": "[encoded data removed]",
      "text/plain": [
       "<Figure size 144x864 with 1 Axes>"
      ]
     },
     "metadata": {},
     "output_type": "display_data"
    }
   ],
   "source": [
    "tracks = ['cairn']\n",
    "w.plot(tracks=tracks)"
   ]
  },
  {
   "cell_type": "markdown",
   "metadata": {},
   "source": [
    "#### Below is a way to parse the grain size from the 'depth' axis to get the facies \n",
    "This is so we can visualised the grainsize difference"
   ]
  },
  {
   "cell_type": "markdown",
   "metadata": {},
   "source": [
    "Create 1D arrays from the discretised sedimentary log data"
   ]
  },
  {
   "cell_type": "markdown",
   "metadata": {},
   "source": [
    "We're going to create a well for these curves"
   ]
  },
  {
   "cell_type": "code",
   "execution_count": 42,
   "metadata": {},
   "outputs": [
    {
     "data": {
      "text/plain": [
       "[Component({'lithology': 'claystone'}),\n",
       " Component({'lithology': 'siltstone'}),\n",
       " Component({'lithology': 'vf_sandstone'}),\n",
       " Component({'lithology': 'f_sandstone'}),\n",
       " Component({'lithology': 'm_sandstone'}),\n",
       " Component({'lithology': 'c_sandstone'}),\n",
       " Component({'lithology': 'vc_sandstone'})]"
      ]
     },
     "execution_count": 42,
     "metadata": {},
     "output_type": "execute_result"
    }
   ],
   "source": [
    "comps = [Component({'lithology': 'claystone'}),\n",
    "         Component({'lithology': 'siltstone'}),\n",
    "         Component({'lithology': 'vf_sandstone'}),\n",
    "         Component({'lithology': 'f_sandstone'}),\n",
    "         Component({'lithology': 'm_sandstone'}),\n",
    "         Component({'lithology': 'c_sandstone'}),\n",
    "         Component({'lithology': 'vc_sandstone'}),\n",
    "        ]\n",
    "comps"
   ]
  },
  {
   "cell_type": "code",
   "execution_count": 44,
   "metadata": {},
   "outputs": [],
   "source": [
    "legend_csv = \"\"\"comp lithology, colour, width\n",
    "                claystone, #a2cffe, 0.5,\n",
    "                siltstone, #448ee4, 1,\n",
    "                vf_sandstone, #fdaa48, 1.5,\n",
    "                f_sandstone, #fdaa48, 1.6,\n",
    "                m_sandstone, #fdaa48, 1.65,\n",
    "                c_sandstone, #fdaa48, 1.70,\n",
    "                vc_sandstone, #fdaa48, 1.75\"\"\"\n",
    "type(legend_csv)\n",
    "legend = Legend.from_csv(text=legend_csv)"
   ]
  },
  {
   "cell_type": "markdown",
   "metadata": {},
   "source": [
    "Create cutoffs for the different facies types "
   ]
  },
  {
   "cell_type": "code",
   "execution_count": 45,
   "metadata": {},
   "outputs": [
    {
     "data": {
      "image/png": "[encoded data removed]",
      "text/plain": [
       "<Figure size 108x540 with 1 Axes>"
      ]
     },
     "metadata": {
      "needs_background": "light"
     },
     "output_type": "display_data"
    }
   ],
   "source": [
    "s = Striplog.from_log(cairn, cutoff=[1, 2, 3, 4, 5, 6], components=comps, basis=cairn.basis)\n",
    "s.plot(lw=0.5, legend=legend, aspect=5)"
   ]
  },
  {
   "cell_type": "markdown",
   "metadata": {},
   "source": [
    "#### Below are some ways to clean up the logs. You can find more about this in Agile's post [here](https://agilescientific.com/blog/2019/9/6/superpowers-for-striplogs)\n",
    "\n",
    "#### You can also check out the notebooks [here](https://github.com/agile-geoscience/striplog/blob/master/tutorial/Binary_morphologies.ipynb) for a bit more description of it. "
   ]
  },
  {
   "cell_type": "code",
   "execution_count": 46,
   "metadata": {
    "scrolled": true
   },
   "outputs": [
    {
     "data": {
      "image/png": "[encoded data removed]",
      "text/plain": [
       "<Figure size 108x324 with 1 Axes>"
      ]
     },
     "metadata": {
      "needs_background": "light"
     },
     "output_type": "display_data"
    }
   ],
   "source": [
    "pruned = s.prune(limit=0.2, keep_ends=True)\n",
    "pruned.plot(aspect=3, legend=legend)"
   ]
  },
  {
   "cell_type": "code",
   "execution_count": 47,
   "metadata": {},
   "outputs": [
    {
     "data": {
      "image/png": "[encoded data removed]",
      "text/plain": [
       "<Figure size 108x324 with 1 Axes>"
      ]
     },
     "metadata": {
      "needs_background": "light"
     },
     "output_type": "display_data"
    }
   ],
   "source": [
    "annealed = pruned.anneal()\n",
    "annealed.plot(aspect=3, legend=legend)"
   ]
  },
  {
   "cell_type": "code",
   "execution_count": 48,
   "metadata": {},
   "outputs": [
    {
     "data": {
      "image/png": "[encoded data removed]",
      "text/plain": [
       "<Figure size 108x432 with 1 Axes>"
      ]
     },
     "metadata": {
      "needs_background": "light"
     },
     "output_type": "display_data"
    }
   ],
   "source": [
    "merged = annealed.merge_neighbours()\n",
    "merged.plot(aspect=4, legend=legend, lw=.5)"
   ]
  },
  {
   "cell_type": "markdown",
   "metadata": {},
   "source": [
    "Plot all of the logs we've cleaned up to see what we've done"
   ]
  },
  {
   "cell_type": "code",
   "execution_count": 49,
   "metadata": {},
   "outputs": [
    {
     "data": {
      "image/png": "[encoded data removed]",
      "text/plain": [
       "<Figure size 432x720 with 4 Axes>"
      ]
     },
     "metadata": {
      "needs_background": "light"
     },
     "output_type": "display_data"
    }
   ],
   "source": [
    "fig, axs = plt.subplots(ncols=4, figsize=(6, 10))\n",
    "\n",
    "axs[0] = s.plot(legend=legend, ax=axs[0], lw=0.5, aspect=3)\n",
    "axs[0].set_title('Original')\n",
    "axs[1] = pruned.plot(legend=legend, ax=axs[1], lw=0.5, aspect=3)\n",
    "axs[1].set_yticklabels([])\n",
    "axs[1].set_title('Pruned')\n",
    "axs[2] = annealed.plot(legend=legend, ax=axs[2], lw=0.5, aspect=3)\n",
    "axs[2].set_yticklabels([])\n",
    "axs[2].set_title('Annealed')\n",
    "axs[3] = merged.plot(legend=legend, ax=axs[3], lw=0.5, aspect=3)\n",
    "axs[3].set_yticklabels([])\n",
    "axs[3].set_title('Merged')\n",
    "plt.show()"
   ]
  },
  {
   "cell_type": "markdown",
   "metadata": {},
   "source": [
    "#### Now we're going to make a `las` file from our log"
   ]
  },
  {
   "cell_type": "markdown",
   "metadata": {},
   "source": [
    "Check what deatails we have from our `striplog`"
   ]
  },
  {
   "cell_type": "code",
   "execution_count": 51,
   "metadata": {},
   "outputs": [
    {
     "data": {
      "text/plain": [
       "Striplog(49 Intervals, start=0.0, stop=49.683)"
      ]
     },
     "execution_count": 51,
     "metadata": {},
     "output_type": "execute_result"
    }
   ],
   "source": [
    "merged.extract(cairn, basis=cairn.basis, name='grainsize', function=np.mean)\n",
    "merged"
   ]
  },
  {
   "cell_type": "code",
   "execution_count": 52,
   "metadata": {},
   "outputs": [
    {
     "data": {
      "text/html": [
       "<table><tr><td style=\"width:2em; background-color:#DDDDDD\" rowspan=\"6\"></td><td><strong>top</strong></td><td>0.5684896115627823</td></tr><tr><td><strong>primary</strong></td><td><table><tr><td><strong>lithology</strong></td><td>m_sandstone</td></tr></table></td></tr><tr><td><strong>summary</strong></td><td>1.12 m of m_sandstone</td></tr><tr><td><strong>description</strong></td><td></td></tr><tr><td><strong>data</strong></td><td><table></table></td></tr><tr><td><strong>base</strong></td><td>1.6905085817524843</td></tr></table>"
      ],
      "text/plain": [
       "Interval({'top': Position({'middle': 0.5684896115627823, 'units': 'm'}), 'base': Position({'middle': 1.6905085817524843, 'units': 'm'}), 'description': '', 'data': {}, 'components': [Component({'lithology': 'm_sandstone'})]})"
      ]
     },
     "execution_count": 52,
     "metadata": {},
     "output_type": "execute_result"
    }
   ],
   "source": [
    "merged[1]"
   ]
  },
  {
   "cell_type": "markdown",
   "metadata": {},
   "source": [
    "We're going to make a welly log from the striplog"
   ]
  },
  {
   "cell_type": "code",
   "execution_count": 53,
   "metadata": {},
   "outputs": [],
   "source": [
    "liths, lbasis, _ = merged.to_log(legend=legend, return_meta=True)\n",
    "grainsize = merged.to_log(basis=lbasis, legend=legend, legend_field='width')"
   ]
  },
  {
   "cell_type": "markdown",
   "metadata": {},
   "source": [
    "Let's check out the sample interval"
   ]
  },
  {
   "cell_type": "code",
   "execution_count": 54,
   "metadata": {},
   "outputs": [
    {
     "data": {
      "text/plain": [
       "0.99366"
      ]
     },
     "execution_count": 54,
     "metadata": {},
     "output_type": "execute_result"
    }
   ],
   "source": [
    "lbasis[1]-lbasis[0]"
   ]
  },
  {
   "cell_type": "markdown",
   "metadata": {},
   "source": [
    "Make a dictionary of parameters of the things we want to associated wit hte curve in the lasfile"
   ]
  },
  {
   "cell_type": "code",
   "execution_count": 55,
   "metadata": {},
   "outputs": [],
   "source": [
    "litho_params = {'description': 'Cairn Lithology',\n",
    "               'mnemonic': 'Lith'\n",
    "               }\n",
    "grain_params = {'description': 'Cairn Grainsize',\n",
    "               'mnemonic': 'grsz'\n",
    "               }"
   ]
  },
  {
   "cell_type": "markdown",
   "metadata": {},
   "source": [
    "Pass the `ndarrays` and the parameters `dicts` to the `Curve` method"
   ]
  },
  {
   "cell_type": "code",
   "execution_count": 56,
   "metadata": {},
   "outputs": [],
   "source": [
    "lithCurve = Curve(liths, lbasis, litho_params)\n",
    "grainCurve = Curve(grainsize, lbasis, grain_params)"
   ]
  },
  {
   "cell_type": "markdown",
   "metadata": {},
   "source": [
    "Add the new curves to the  collection of curves that already exist in `w.data`(another dictionary)"
   ]
  },
  {
   "cell_type": "code",
   "execution_count": 57,
   "metadata": {},
   "outputs": [],
   "source": [
    "w.data['cairn_striplog'] = merged\n",
    "w.data['cairn_grsz'] = grainCurve\n",
    "w.data['cairn_lith'] = lithCurve"
   ]
  },
  {
   "cell_type": "markdown",
   "metadata": {},
   "source": [
    "Create a `Legend` for the `Cruves`"
   ]
  },
  {
   "cell_type": "code",
   "execution_count": 59,
   "metadata": {},
   "outputs": [
    {
     "data": {
      "text/plain": [
       "'color, lw, xcale, curve mnemonic\\n                      #a57fe8, 1.5, linear, cairn_lith,\\n                      #2c6fbb, 1.0, linear, cairn'"
      ]
     },
     "execution_count": 59,
     "metadata": {},
     "output_type": "execute_result"
    }
   ],
   "source": [
    "curve_legend_csv = \"\"\"color, lw, xcale, curve mnemonic\n",
    "                      #a57fe8, 1.5, linear, cairn_lith,\n",
    "                      #2c6fbb, 1.0, linear, cairn\"\"\"\n",
    "curve_legend_csv\n",
    "\n"
   ]
  },
  {
   "cell_type": "code",
   "execution_count": 60,
   "metadata": {},
   "outputs": [
    {
     "data": {
      "text/html": [
       "<table><tr><th>colour</th><th>xcale</th><th>lw</th><th>hatch</th><th>width</th><th>curve</th></tr><tr><td style=\"color:#000000; background-color:#a57fe8\">#a57fe8</td><td style=\"color:black; background-color:white\">linear</td><td style=\"color:black; background-color:white\">1.5</td><td style=\"color:black; background-color:white\">None</td><td style=\"color:black; background-color:white\">None</td><td style=\"color:black; background-color:white\">{'mnemonic': 'cairn_lith'}</td></tr><tr><td style=\"color:#ffffff; background-color:#2c6fbb\">#2c6fbb</td><td style=\"color:black; background-color:white\">linear</td><td style=\"color:black; background-color:white\">1.0</td><td style=\"color:black; background-color:white\">None</td><td style=\"color:black; background-color:white\">None</td><td style=\"color:black; background-color:white\">{'mnemonic': 'cairn'}</td></tr></table>"
      ],
      "text/plain": [
       "Legend(Decor({'_colour': '#a57fe8', 'lw': 1.5, 'xcale': 'linear', 'curve': Component({'mnemonic': 'cairn_lith'}), 'width': None, 'hatch': None})\n",
       "Decor({'_colour': '#2c6fbb', 'lw': 1.0, 'xcale': 'linear', 'curve': Component({'mnemonic': 'cairn'}), 'width': None, 'hatch': None}))"
      ]
     },
     "execution_count": 60,
     "metadata": {},
     "output_type": "execute_result"
    }
   ],
   "source": [
    "curve_legend = Legend.from_csv(text=curve_legend_csv)\n",
    "curve_legend"
   ]
  },
  {
   "cell_type": "code",
   "execution_count": 61,
   "metadata": {},
   "outputs": [],
   "source": [
    "legend_c = legend + curve_legend"
   ]
  },
  {
   "cell_type": "code",
   "execution_count": 62,
   "metadata": {},
   "outputs": [
    {
     "data": {
      "image/png": "[encoded data removed]",
      "text/plain": [
       "<Figure size 432x864 with 3 Axes>"
      ]
     },
     "metadata": {},
     "output_type": "display_data"
    }
   ],
   "source": [
    "tracks = ['cairn_striplog', 'cairn_lith', 'cairn']\n",
    "w.plot(tracks=tracks, legend=legend_c, basis=cairn.basis, lw=0.5)"
   ]
  },
  {
   "cell_type": "markdown",
   "metadata": {},
   "source": [
    "We need to write these curves (`lith, grnsz, Striplog`) by passing a list of mnemonics we want in the output file, to the `well.to_las()` method"
   ]
  },
  {
   "cell_type": "code",
   "execution_count": 63,
   "metadata": {},
   "outputs": [],
   "source": [
    "keys = ['cairn_lith']"
   ]
  },
  {
   "cell_type": "code",
   "execution_count": 64,
   "metadata": {},
   "outputs": [],
   "source": [
    "w.to_las('outcrop_grainsize_2_well.LAS', keys=keys)"
   ]
  },
  {
   "cell_type": "markdown",
   "metadata": {},
   "source": [
    "Now let's add a striplog to the well and export. This will put the `striplog` stuff in the `~other` section of the LAS file, where as the `Curve` data is in the `~Ascii` section."
   ]
  },
  {
   "cell_type": "code",
   "execution_count": 65,
   "metadata": {},
   "outputs": [],
   "source": [
    "w.data['cairn_striplog'] = merged"
   ]
  },
  {
   "cell_type": "code",
   "execution_count": 66,
   "metadata": {},
   "outputs": [],
   "source": [
    "keys = ['cairn_lith', 'cairn_triplog']"
   ]
  },
  {
   "cell_type": "code",
   "execution_count": 67,
   "metadata": {},
   "outputs": [],
   "source": [
    "w.to_las('lithology_and_Striplog.LAS')"
   ]
  },
  {
   "cell_type": "markdown",
   "metadata": {},
   "source": [
    "Simple as that, we now have a `LAS` file from our sedimentary log."
   ]
  }
 ],
 "metadata": {
  "kernelspec": {
   "display_name": "geocomp",
   "language": "python",
   "name": "geocomp"
  },
  "language_info": {
   "codemirror_mode": {
    "name": "ipython",
    "version": 3
   },
   "file_extension": ".py",
   "mimetype": "text/x-python",
   "name": "python",
   "nbconvert_exporter": "python",
   "pygments_lexer": "ipython3",
   "version": "3.8.5"
  }
 },
 "nbformat": 4,
 "nbformat_minor": 4
}
